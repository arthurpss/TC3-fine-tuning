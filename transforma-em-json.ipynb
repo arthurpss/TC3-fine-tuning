{
 "cells": [
  {
   "metadata": {},
   "cell_type": "code",
   "outputs": [],
   "execution_count": null,
   "source": [
    "import pandas as pd\n",
    "dataset = pd.read_csv(\"/content/drive/MyDrive/TC3/dataset/dados_treino_limpo.csv\")"
   ],
   "id": "6478fd2655d2be83"
  },
  {
   "cell_type": "code",
   "execution_count": null,
   "id": "initial_id",
   "metadata": {
    "collapsed": true
   },
   "outputs": [],
   "source": [
    "import json\n",
    "\n",
    "caminho_salvar_json = \"/content/drive/MyDrive/TC3/dataset/dataset.json\"\n",
    "dataset_json = dataset.to_dict(orient='records')\n",
    "\n",
    "with open(caminho_salvar_json, 'w', encoding='utf-8') as f:\n",
    "    json.dump(dataset_json, f, ensure_ascii=False, indent=4)"
   ]
  },
  {
   "metadata": {},
   "cell_type": "code",
   "outputs": [],
   "execution_count": null,
   "source": "dataset_json = json.load(open('/content/drive/MyDrive/TC3/dataset/dataset.json', \"r\"))",
   "id": "a311e5cf06708da9"
  },
  {
   "metadata": {},
   "cell_type": "code",
   "outputs": [],
   "execution_count": null,
   "source": [
    "from datasets import Dataset\n",
    "\n",
    "def format_prompt(dados):\n",
    "    return f\"### Input: {dados['title']}\\n### Output: {dados['content']}<|endoftext|>\""
   ],
   "id": "b63c5f5b70f505f0"
  },
  {
   "metadata": {},
   "cell_type": "code",
   "outputs": [],
   "execution_count": null,
   "source": [
    "dados_treino_formatado = [format_prompt(item) for item in dataset_json]\n",
    "dataset_treino = Dataset.from_dict({\"text\": dados_treino_formatado})"
   ],
   "id": "9d4ea67f5e9adc82"
  },
  {
   "metadata": {},
   "cell_type": "code",
   "outputs": [],
   "execution_count": null,
   "source": [
    "caminho_salvar_dataset = \"/content/drive/MyDrive/TC3/dataset/dataset_treino\"\n",
    "\n",
    "dataset_treino.save_to_disk(caminho_salvar_dataset)\n",
    "\n",
    "print(f\"Dataset 'dataset_treino' salvo com sucesso em: {caminho_salvar_dataset}\")"
   ],
   "id": "22ae55178f01954a"
  }
 ],
 "metadata": {
  "kernelspec": {
   "display_name": "Python 3",
   "language": "python",
   "name": "python3"
  },
  "language_info": {
   "codemirror_mode": {
    "name": "ipython",
    "version": 2
   },
   "file_extension": ".py",
   "mimetype": "text/x-python",
   "name": "python",
   "nbconvert_exporter": "python",
   "pygments_lexer": "ipython2",
   "version": "2.7.6"
  }
 },
 "nbformat": 4,
 "nbformat_minor": 5
}
