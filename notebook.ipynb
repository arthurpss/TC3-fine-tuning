{
 "cells": [
  {
   "metadata": {},
   "cell_type": "code",
   "outputs": [],
   "execution_count": null,
   "source": [
    "from google.colab import drive\n",
    "\n",
    "drive.mount('/content/drive')"
   ],
   "id": "2d4ba633f7a80aef"
  },
  {
   "cell_type": "code",
   "execution_count": null,
   "id": "initial_id",
   "metadata": {
    "collapsed": true
   },
   "outputs": [],
   "source": [
    "import pandas as pd\n",
    "\n",
    "dados_treino = pd.read_json(\"/content/drive/MyDrive/TC3/dataset/trn.json\", lines=True)\n",
    "dados_treino = dados_treino[['title', 'content']]"
   ]
  },
  {
   "metadata": {},
   "cell_type": "code",
   "outputs": [],
   "execution_count": null,
   "source": [
    "import html\n",
    "\n",
    "\n",
    "def limpar_colunas_texto(df):\n",
    "    colunas_para_limpar = ['content', 'title']\n",
    "    df = df.dropna()\n",
    "    df_limpo = df.copy()\n",
    "\n",
    "    for coluna in colunas_para_limpar:\n",
    "        df_limpo[coluna] = df_limpo[coluna].str.replace(r'<.*?>', '', regex=True)\n",
    "        df_limpo[coluna] = df_limpo[coluna].apply(html.unescape)\n",
    "        df_limpo[coluna] = df_limpo[coluna].str.strip()\n",
    "\n",
    "    return df_limpo"
   ],
   "id": "a8eb3f8dcfbb2923"
  },
  {
   "metadata": {},
   "cell_type": "code",
   "outputs": [],
   "execution_count": null,
   "source": [
    "dados_treino_limpo = limpar_colunas_texto(dados_treino)\n",
    "\n",
    "dados_treino_limpo.shape"
   ],
   "id": "79a7a54b191093a6"
  },
  {
   "metadata": {},
   "cell_type": "code",
   "outputs": [],
   "execution_count": null,
   "source": "dados_treino_limpo.head()",
   "id": "abb37c64fa379ebc"
  },
  {
   "metadata": {},
   "cell_type": "code",
   "outputs": [],
   "execution_count": null,
   "source": [
    "drive.mount('/content/drive')\n",
    "caminho_salvar = \"/content/drive/MyDrive/TC3/dataset/dados_treino_limpo.csv\"\n",
    "dados_treino_limpo.to_csv(caminho_salvar, index=False)\n",
    "\n",
    "print(f\"DataFrame 'dados_treino_limpo' salvo com sucesso em: {caminho_salvar}\")"
   ],
   "id": "8103fa6e9e7b1731"
  },
  {
   "metadata": {},
   "cell_type": "code",
   "outputs": [],
   "execution_count": null,
   "source": "dataset = pd.read_csv(\"/content/drive/MyDrive/TC3/dataset/dados_treino_limpo.csv\")",
   "id": "16526c0bd7dfacf"
  },
  {
   "metadata": {},
   "cell_type": "code",
   "outputs": [],
   "execution_count": null,
   "source": [
    "import json\n",
    "\n",
    "caminho_salvar_json = \"/content/drive/MyDrive/TC3/dataset/dataset.json\"\n",
    "dataset_json = dataset.to_dict(orient='records')\n",
    "\n",
    "with open(caminho_salvar_json, 'w', encoding='utf-8') as f:\n",
    "    json.dump(dataset_json, f, ensure_ascii=False, indent=4)"
   ],
   "id": "7df776eab5b1a87a"
  },
  {
   "metadata": {},
   "cell_type": "code",
   "outputs": [],
   "execution_count": null,
   "source": "dataset_json = json.load(open('/content/drive/MyDrive/TC3/dataset/dataset.json', \"r\"))",
   "id": "bc8e511a93c5dcf4"
  },
  {
   "metadata": {},
   "cell_type": "code",
   "outputs": [],
   "execution_count": null,
   "source": [
    "from datasets import Dataset\n",
    "\n",
    "\n",
    "def format_prompt(dados):\n",
    "    return f\"### Input: {dados['title']}\\n### Output: {dados['content']}<|endoftext|>\""
   ],
   "id": "2f17b5e18bacdc46"
  },
  {
   "metadata": {},
   "cell_type": "code",
   "outputs": [],
   "execution_count": null,
   "source": [
    "dados_treino_formatado = [format_prompt(item) for item in dataset_json]\n",
    "dataset_treino = Dataset.from_dict({\"text\": dados_treino_formatado})"
   ],
   "id": "818263dc56eb41a4"
  },
  {
   "metadata": {},
   "cell_type": "code",
   "outputs": [],
   "execution_count": null,
   "source": [
    "caminho_salvar_dataset = \"/content/drive/MyDrive/TC3/dataset/dataset_treino\"\n",
    "\n",
    "dataset_treino.save_to_disk(caminho_salvar_dataset)\n",
    "\n",
    "print(f\"Dataset 'dataset_treino' salvo com sucesso em: {caminho_salvar_dataset}\")"
   ],
   "id": "5e3481e9f55d3014"
  },
  {
   "metadata": {},
   "cell_type": "code",
   "outputs": [],
   "execution_count": null,
   "source": [
    "import torch\n",
    "\n",
    "print(f\"CUDA available: {torch.cuda.is_available()}\")\n",
    "print(f\"GPU: {torch.cuda.get_device_name(0) if torch.cuda.is_available() else 'None'}\")"
   ],
   "id": "68e394421a3e6dc3"
  },
  {
   "metadata": {},
   "cell_type": "code",
   "outputs": [],
   "execution_count": null,
   "source": "drive.mount('/content/drive')",
   "id": "fdccccba39893cc9"
  },
  {
   "metadata": {},
   "cell_type": "code",
   "outputs": [],
   "execution_count": null,
   "source": [
    "from datasets import load_from_disk\n",
    "import random\n",
    "\n",
    "dataset = load_from_disk(\"/content/drive/MyDrive/TC3/dataset/dataset_treino\")\n",
    "num_examples = len(dataset)\n",
    "random_indices = random.sample(range(num_examples), 100000)\n",
    "random_sample = dataset.select(random_indices)"
   ],
   "id": "eb3282c591f1c94c"
  },
  {
   "metadata": {},
   "cell_type": "code",
   "outputs": [],
   "execution_count": null,
   "source": [
    "import os\n",
    "\n",
    "caminho_salvar_json = \"/content/drive/MyDrive/TC3/dataset/random_sample3.json\"\n",
    "\n",
    "diretorio_salvar = os.path.dirname(caminho_salvar_json)\n",
    "os.makedirs(diretorio_salvar, exist_ok=True)\n",
    "\n",
    "random_sample.to_json(caminho_salvar_json)\n",
    "\n",
    "print(f\"Dataset salvo em formato json em: {caminho_salvar_json}\")"
   ],
   "id": "b96184d9118c23a1"
  },
  {
   "metadata": {},
   "cell_type": "code",
   "outputs": [],
   "execution_count": null,
   "source": [
    "from unsloth import FastLanguageModel\n",
    "import torch\n",
    "\n",
    "model_name = \"unsloth/Phi-3-mini-4k-instruct-bnb-4bit\"\n",
    "\n",
    "max_seq_length = 2048\n",
    "dtype = None\n",
    "\n",
    "model, tokenizer = FastLanguageModel.from_pretrained(\n",
    "    model_name=model_name,\n",
    "    max_seq_length=max_seq_length,\n",
    "    dtype=dtype,\n",
    "    load_in_4bit=True,\n",
    ")"
   ],
   "id": "c18a8cf17ca0c022"
  },
  {
   "metadata": {},
   "cell_type": "code",
   "outputs": [],
   "execution_count": null,
   "source": [
    "model = FastLanguageModel.get_peft_model(\n",
    "    model,\n",
    "    r=32,\n",
    "    target_modules=[\n",
    "        \"q_proj\", \"k_proj\", \"v_proj\", \"o_proj\",\n",
    "        \"gate_proj\", \"up_proj\", \"down_proj\",\n",
    "    ],\n",
    "    lora_alpha=64,\n",
    "    lora_dropout=0,\n",
    "    bias=\"none\",\n",
    "    use_gradient_checkpointing=\"unsloth\",\n",
    "    random_state=3407,\n",
    "    use_rslora=False,\n",
    "    loftq_config=None,\n",
    ")"
   ],
   "id": "ee7bfd80ece9ac49"
  },
  {
   "metadata": {},
   "cell_type": "code",
   "outputs": [],
   "execution_count": null,
   "source": [
    "from trl import SFTTrainer\n",
    "from transformers import TrainingArguments\n",
    "\n",
    "trainer = SFTTrainer(\n",
    "    model=model,\n",
    "    tokenizer=tokenizer,\n",
    "    train_dataset=random_sample,\n",
    "    dataset_text_field=\"text\",\n",
    "    max_seq_length=max_seq_length,\n",
    "    dataset_num_proc=2,\n",
    "    args=TrainingArguments(\n",
    "        per_device_train_batch_size=2,\n",
    "        gradient_accumulation_steps=4,\n",
    "        warmup_steps=10,\n",
    "        num_train_epochs=1,\n",
    "        learning_rate=2e-4,\n",
    "        fp16=not torch.cuda.is_bf16_supported(),\n",
    "        bf16=torch.cuda.is_bf16_supported(),\n",
    "        logging_steps=25,\n",
    "        optim=\"adamw_8bit\",\n",
    "        weight_decay=0.01,\n",
    "        lr_scheduler_type=\"linear\",\n",
    "        seed=3407,\n",
    "        output_dir=\"outputs\",\n",
    "        save_strategy=\"epoch\",\n",
    "        save_total_limit=2,\n",
    "        dataloader_pin_memory=False,\n",
    "        report_to=\"none\",\n",
    "    ),\n",
    ")"
   ],
   "id": "cf8aeef98f950df7"
  },
  {
   "metadata": {},
   "cell_type": "code",
   "outputs": [],
   "execution_count": null,
   "source": "trainer_stats = trainer.train()",
   "id": "db315ff57537634b"
  },
  {
   "metadata": {},
   "cell_type": "code",
   "outputs": [],
   "execution_count": null,
   "source": [
    "from google.colab import drive\n",
    "import os\n",
    "\n",
    "drive.mount('/content/drive')\n",
    "\n",
    "caminho_salvar_modelo = \"/content/drive/MyDrive/TC3/modelos/meu_modelo_finetuned_3\"\n",
    "\n",
    "os.makedirs(caminho_salvar_modelo, exist_ok=True)\n",
    "\n",
    "model.save_pretrained(caminho_salvar_modelo)\n",
    "tokenizer.save_pretrained(caminho_salvar_modelo)\n",
    "\n",
    "print(f\"Modelo e Tokenizer salvos com sucesso em: {caminho_salvar_modelo}\")"
   ],
   "id": "7694a88d7af23d23"
  },
  {
   "metadata": {},
   "cell_type": "code",
   "outputs": [],
   "execution_count": null,
   "source": "random_sample.select(range(10)).to_pandas()",
   "id": "8a775168095d1dff"
  },
  {
   "metadata": {},
   "cell_type": "code",
   "outputs": [],
   "execution_count": null,
   "source": [
    "import json\n",
    "\n",
    "sample_list = []\n",
    "with open('/content/drive/MyDrive/TC3/dataset/random_sample3.json', \"r\") as f:\n",
    "    for line in f:\n",
    "        sample_list.append(json.loads(line))\n",
    "\n",
    "sample_treino = sample_list[0]\n",
    "sample_treino"
   ],
   "id": "6fc110694bbd1fd1"
  },
  {
   "metadata": {},
   "cell_type": "code",
   "outputs": [],
   "execution_count": null,
   "source": [
    "sample_teste = sample_list[1]\n",
    "sample_teste"
   ],
   "id": "877d98c12b673655"
  },
  {
   "metadata": {},
   "cell_type": "code",
   "outputs": [],
   "execution_count": null,
   "source": [
    "import re\n",
    "\n",
    "def extract_title_and_content(text):\n",
    "    match = re.search(r\"### Input: (.*)\\n### Output: (.*)\", text)\n",
    "\n",
    "    if match:\n",
    "       return match.group(1).strip(), match.group(2).strip()\n",
    "    else:\n",
    "        return None, None"
   ],
   "id": "c2547160df57c6af"
  },
  {
   "metadata": {},
   "cell_type": "code",
   "outputs": [],
   "execution_count": null,
   "source": [
    "titulo_treino, content_treino = extract_title_and_content(sample_treino['text'])\n",
    "\n",
    "print(f\"Título: {titulo_treino}\")\n",
    "print(f\"Conteúdo: {content_treino}\")"
   ],
   "id": "c4116802041f0dc2"
  },
  {
   "metadata": {},
   "cell_type": "code",
   "outputs": [],
   "execution_count": null,
   "source": [
    "titulo_teste = extract_title_and_content(sample_teste['text'])[0]\n",
    "titulo_teste"
   ],
   "id": "90bc91100da8a214"
  },
  {
   "metadata": {},
   "cell_type": "code",
   "outputs": [],
   "execution_count": null,
   "source": [
    "FastLanguageModel.for_inference(model)\n",
    "\n",
    "messages = [\n",
    "    {\"role\": \"system\", \"content\": \"\\nYou are a helpful AI assistant that finds the correct product description.\\n\"},\n",
    "    {\"role\": \"user\", \"content\": f\"\\n{titulo_treino}\\n\"},\n",
    "    {\"role\": \"assistant\", \"content\": f\"\\n{content_treino}\\n\"},\n",
    "    {\"role\": \"user\", \"content\": f\"\\n{titulo_teste}\\n\"},\n",
    "]\n",
    "\n",
    "inputs = tokenizer.apply_chat_template(\n",
    "    messages,\n",
    "    tokenize=True,\n",
    "    add_generation_prompt=True,\n",
    "    return_tensors=\"pt\",\n",
    ").to(\"cuda\")\n",
    "\n",
    "outputs = model.generate(\n",
    "    input_ids=inputs,\n",
    "    max_new_tokens=500,\n",
    "    temperature=0.1,\n",
    "    do_sample=True,\n",
    "    top_p=0.9,\n",
    ")\n",
    "\n",
    "response = tokenizer.batch_decode(outputs)[0]\n",
    "print(response)"
   ],
   "id": "4880b09e1834d9fe"
  }
 ],
 "metadata": {
  "kernelspec": {
   "display_name": "Python 3",
   "language": "python",
   "name": "python3"
  },
  "language_info": {
   "codemirror_mode": {
    "name": "ipython",
    "version": 2
   },
   "file_extension": ".py",
   "mimetype": "text/x-python",
   "name": "python",
   "nbconvert_exporter": "python",
   "pygments_lexer": "ipython2",
   "version": "2.7.6"
  }
 },
 "nbformat": 4,
 "nbformat_minor": 5
}
