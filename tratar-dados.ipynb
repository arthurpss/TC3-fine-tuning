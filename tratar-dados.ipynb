{
 "cells": [
  {
   "cell_type": "code",
   "execution_count": null,
   "id": "initial_id",
   "metadata": {
    "collapsed": true
   },
   "outputs": [],
   "source": [
    "from google.colab import drive\n",
    "\n",
    "drive.mount('/content/drive')"
   ]
  },
  {
   "metadata": {},
   "cell_type": "code",
   "outputs": [],
   "execution_count": null,
   "source": [
    "import pandas as pd\n",
    "\n",
    "dados_treino = pd.read_json(\"/content/drive/MyDrive/TC3/dataset/trn.json\", lines=True)\n",
    "dados_treino = dados_treino[['title', 'content']]"
   ],
   "id": "24a61df28dc348b2"
  },
  {
   "metadata": {},
   "cell_type": "code",
   "outputs": [],
   "execution_count": null,
   "source": [
    "import html\n",
    "\n",
    "\n",
    "def limpar_colunas_texto(df):\n",
    "    colunas_para_limpar = ['content', 'title']\n",
    "    df = df.dropna()\n",
    "    df_limpo = df.copy()\n",
    "\n",
    "    for coluna in colunas_para_limpar:\n",
    "        df_limpo[coluna] = df_limpo[coluna].str.replace(r'<.*?>', '', regex=True)\n",
    "        df_limpo[coluna] = df_limpo[coluna].apply(html.unescape)\n",
    "        df_limpo[coluna] = df_limpo[coluna].str.strip()\n",
    "\n",
    "    return df_limpo"
   ],
   "id": "d193b4e0eb44f109"
  },
  {
   "metadata": {},
   "cell_type": "code",
   "outputs": [],
   "execution_count": null,
   "source": [
    "dados_treino_limpo = limpar_colunas_texto(dados_treino)\n",
    "\n",
    "dados_treino_limpo.shape"
   ],
   "id": "af09dc58d94a165e"
  },
  {
   "metadata": {},
   "cell_type": "code",
   "outputs": [],
   "execution_count": null,
   "source": "dados_treino_limpo.head()",
   "id": "457a23cbc002899c"
  },
  {
   "metadata": {},
   "cell_type": "code",
   "outputs": [],
   "execution_count": null,
   "source": [
    "drive.mount('/content/drive')\n",
    "caminho_salvar = \"/content/drive/MyDrive/TC3/dataset/dados_treino_limpo.csv\"\n",
    "dados_treino_limpo.to_csv(caminho_salvar, index=False)\n",
    "\n",
    "print(f\"DataFrame 'dados_treino_limpo' salvo com sucesso em: {caminho_salvar}\")"
   ],
   "id": "f3d2a8266e0694e1"
  }
 ],
 "metadata": {
  "kernelspec": {
   "display_name": "Python 3",
   "language": "python",
   "name": "python3"
  },
  "language_info": {
   "codemirror_mode": {
    "name": "ipython",
    "version": 2
   },
   "file_extension": ".py",
   "mimetype": "text/x-python",
   "name": "python",
   "nbconvert_exporter": "python",
   "pygments_lexer": "ipython2",
   "version": "2.7.6"
  }
 },
 "nbformat": 4,
 "nbformat_minor": 5
}
